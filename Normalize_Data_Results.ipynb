{
 "cells": [
  {
   "cell_type": "markdown",
   "id": "f5ea0872",
   "metadata": {},
   "source": [
    "**By Gaurav Nagpal**"
   ]
  },
  {
   "cell_type": "markdown",
   "id": "cede3b13",
   "metadata": {},
   "source": [
    "**Problem 2.1 A:** \n",
    "Deciding whether to issue a loan to an applicant based on demographic and financial data (with\n",
    "reference to a database of similar data on prior customers).\n",
    "\n",
    "Ans: Supervised learning because we need to predict the outcome whether the loan will be approved or not.\n",
    "\n",
    "**Problem 2.1 B:** \n",
    "In an online bookstore, making recommendations to customers concerning additional items to\n",
    "buy based on the buying patterns in prior transactions.\n",
    "\n",
    "Ans: Unsupervised learning because no specific outcome is required \n",
    "\n",
    "**Problem 2.1 C:** \n",
    "Identifying a network data packet as dangerous (virus, hacker attack) based on comparison to\n",
    "other packets whose threat status is known.\n",
    "\n",
    "Ans: Supervised learning because of target data\n",
    "\n",
    "**Problem 2.1 D:** \n",
    "Identifying segments of similar customers.\n",
    "\n",
    "Ans: Unsupervised learning  because no specific outcome is required\n",
    "\n",
    "**Problem 2.1 E:** \n",
    "Predicting whether a company will go bankrupt based on comparing its financial data to those\n",
    "of similar bankrupt and nonbankrupt firms.\n",
    "\n",
    "Ans: Supervised learning because of predicting the outcome where or not the company will go bankrupt\n",
    "\n",
    "**Problem 2.1 F:** \n",
    "Estimating the repair time required for an aircraft based on a trouble ticket.\n",
    "\n",
    "Ans: Supervised learning because specific outcome is required\n",
    "\n",
    "**Problem 2.1 G:** \n",
    "Automated sorting of mail by zip code scanning.\n",
    "\n",
    "Ans: Supervised learning because input variable is known(can test the previous sorting)\n",
    "\n",
    "**Problem 2.1 H:** \n",
    "Printing of custom discount coupons at the conclusion of a grocery store checkout based on\n",
    "what you just bought and what others have bought previously.\n",
    "\n",
    "Ans: Unsupervised learning  because no specific outcome is required\n"
   ]
  },
  {
   "cell_type": "markdown",
   "id": "5e364413",
   "metadata": {},
   "source": [
    "**Problem 2.5:** Overfitting is when a model fits exactly against its training data. However, it doesn’t mean that the data is good as it is not a true reflection because of overfitting and can’t perform accurately against unseen data(the population). "
   ]
  },
  {
   "cell_type": "code",
   "execution_count": 3,
   "id": "252e8a82",
   "metadata": {},
   "outputs": [],
   "source": [
    "# import Python Libraries – NumPy, pandas and sci-kit learn\n",
    "import numpy as np\n",
    "import pandas as pd\n",
    "from sklearn.model_selection import train_test_split\n",
    "from sklearn.metrics import r2_score\n",
    "from sklearn.linear_model import LinearRegression"
   ]
  },
  {
   "cell_type": "code",
   "execution_count": 4,
   "id": "78826525",
   "metadata": {},
   "outputs": [],
   "source": [
    "# import pandas and numpy libraries\n",
    "import numpy as np\n",
    "import pandas as pd"
   ]
  },
  {
   "cell_type": "code",
   "execution_count": 5,
   "id": "b93e1e44",
   "metadata": {},
   "outputs": [
    {
     "name": "stdout",
     "output_type": "stream",
     "text": [
      "   Age  Income($)\n",
      "0   25      49000\n",
      "1   56     156000\n",
      "2   65      99000\n",
      "3   32     192000\n",
      "4   41      39000\n",
      "5   49      57000\n"
     ]
    }
   ],
   "source": [
    "# create a data frame - Problem 2.8\n",
    "df = pd.DataFrame({\n",
    " 'Age': [25,56,65,32,41,49],\n",
    " 'Income($)': [49000,156000,99000,192000,39000,57000]\n",
    "})\n",
    "print(df)"
   ]
  },
  {
   "cell_type": "code",
   "execution_count": 6,
   "id": "a12a9b46",
   "metadata": {},
   "outputs": [],
   "source": [
    "# import preprocessing\n",
    "# Normalizing a data frame in sci-kit learn - Problem 2.8\n",
    "from sklearn import preprocessing\n",
    "from sklearn.preprocessing import StandardScaler\n",
    "# scikit-learn:\n",
    "scaler = StandardScaler()\n",
    "norm_df2 = pd.DataFrame(scaler.fit_transform(df),\n",
    " index=df.index, columns=df.columns)\n",
    "# the result of the transformation is a numpy array, we convert it into a dataframeprint(norm_df2)"
   ]
  },
  {
   "cell_type": "markdown",
   "id": "42d90e6c",
   "metadata": {},
   "source": [
    "**Problem 2.10:** We would consider model B because model B is more accurate on validation data, which is more important and that way, we can avoid the overfitting. "
   ]
  },
  {
   "cell_type": "code",
   "execution_count": 8,
   "id": "49916e25",
   "metadata": {},
   "outputs": [],
   "source": [
    "# Read Toyota Corolla File\n",
    "Toyota_df = pd.read_csv('ToyotaCorolla(7).csv')"
   ]
  },
  {
   "cell_type": "code",
   "execution_count": 9,
   "id": "29abeed0",
   "metadata": {},
   "outputs": [
    {
     "data": {
      "text/plain": [
       "Id                    int64\n",
       "Model                object\n",
       "Price                 int64\n",
       "Age_08_04             int64\n",
       "Mfg_Month             int64\n",
       "Mfg_Year              int64\n",
       "KM                    int64\n",
       "Fuel_Type            object\n",
       "HP                    int64\n",
       "Met_Color             int64\n",
       "Color                object\n",
       "Automatic             int64\n",
       "CC                    int64\n",
       "Doors                 int64\n",
       "Cylinders             int64\n",
       "Gears                 int64\n",
       "Quarterly_Tax         int64\n",
       "Weight                int64\n",
       "Mfr_Guarantee         int64\n",
       "BOVAG_Guarantee       int64\n",
       "Guarantee_Period      int64\n",
       "ABS                   int64\n",
       "Airbag_1              int64\n",
       "Airbag_2              int64\n",
       "Airco                 int64\n",
       "Automatic_airco       int64\n",
       "Boardcomputer         int64\n",
       "CD_Player             int64\n",
       "Central_Lock          int64\n",
       "Powered_Windows       int64\n",
       "Power_Steering        int64\n",
       "Radio                 int64\n",
       "Mistlamps             int64\n",
       "Sport_Model           int64\n",
       "Backseat_Divider      int64\n",
       "Metallic_Rim          int64\n",
       "Radio_cassette        int64\n",
       "Parking_Assistant     int64\n",
       "Tow_Bar               int64\n",
       "dtype: object"
      ]
     },
     "execution_count": 9,
     "metadata": {},
     "output_type": "execute_result"
    }
   ],
   "source": [
    "# Look at data types - Problem 2.11 A\n",
    "Toyota_df.dtypes"
   ]
  },
  {
   "cell_type": "code",
   "execution_count": 11,
   "id": "86fa34a6",
   "metadata": {},
   "outputs": [
    {
     "name": "stdout",
     "output_type": "stream",
     "text": [
      "   Fuel_Type_Diesel  Fuel_Type_Petrol\n",
      "0                 1                 0\n",
      "1                 1                 0\n",
      "2                 1                 0\n",
      "3                 1                 0\n",
      "4                 1                 0\n"
     ]
    }
   ],
   "source": [
    "# to transform categorical data into dummies - Problem 2.11 A\n",
    "Toyota_df = pd.get_dummies(Toyota_df, prefix_sep='_',\n",
    "drop_first=True)\n",
    "Toyota_df.columns\n",
    "print(Toyota_df.loc[:, 'Fuel_Type_Diesel':'Fuel_Type_Petrol'].head(5))"
   ]
  },
  {
   "cell_type": "code",
   "execution_count": 12,
   "id": "5ef0632d",
   "metadata": {},
   "outputs": [
    {
     "data": {
      "text/plain": [
       "Id              int64\n",
       "Price           int64\n",
       "Age_08_04       int64\n",
       "Mfg_Month       int64\n",
       "Mfg_Year        int64\n",
       "                ...  \n",
       "Color_Red       uint8\n",
       "Color_Silver    uint8\n",
       "Color_Violet    uint8\n",
       "Color_White     uint8\n",
       "Color_Yellow    uint8\n",
       "Length: 365, dtype: object"
      ]
     },
     "execution_count": 12,
     "metadata": {},
     "output_type": "execute_result"
    }
   ],
   "source": [
    "# Look at data types - Problem 2.11 A\n",
    "Toyota_df.dtypes"
   ]
  },
  {
   "cell_type": "code",
   "execution_count": 13,
   "id": "b04ba2bc",
   "metadata": {},
   "outputs": [
    {
     "name": "stdout",
     "output_type": "stream",
     "text": [
      "Training : (718, 365)\n",
      "Validation : (502, 365)\n",
      "Test : (216, 365)\n"
     ]
    }
   ],
   "source": [
    "# To Prepare the dataset - Problem 2.11 B\n",
    "trainData, temp = train_test_split(Toyota_df, test_size=0.5, random_state=1)\n",
    "validData, testData = train_test_split(temp, test_size=0.3, random_state=1)\n",
    "print('Training :',trainData.shape)\n",
    "print('Validation :',validData.shape)\n",
    "print('Test :',testData.shape)"
   ]
  },
  {
   "cell_type": "code",
   "execution_count": null,
   "id": "41d3448d",
   "metadata": {},
   "outputs": [],
   "source": []
  }
 ],
 "metadata": {
  "kernelspec": {
   "display_name": "Python 3",
   "language": "python",
   "name": "python3"
  },
  "language_info": {
   "codemirror_mode": {
    "name": "ipython",
    "version": 3
   },
   "file_extension": ".py",
   "mimetype": "text/x-python",
   "name": "python",
   "nbconvert_exporter": "python",
   "pygments_lexer": "ipython3",
   "version": "3.8.8"
  }
 },
 "nbformat": 4,
 "nbformat_minor": 5
}
